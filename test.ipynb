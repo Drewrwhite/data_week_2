{
 "cells": [
  {
   "cell_type": "code",
   "execution_count": 2,
   "metadata": {},
   "outputs": [
    {
     "name": "stdout",
     "output_type": "stream",
     "text": [
      "There is less than 4 items on in this list\n"
     ]
    }
   ],
   "source": [
    "people = [\"Drew\", \"Brandyne\", \"Burke\", \"Charlie\"]\n",
    "doggos = [\"Aengus\", \"Bear\", \"Cali\"]\n",
    "\n",
    "def fourth_place(list1):\n",
    "  try:\n",
    "    return list1[3]\n",
    "  except IndexError:\n",
    "    print(\"There is less than 4 items in this list\")\n",
    "fourth_place(doggos)"
   ]
  }
 ],
 "metadata": {
  "kernelspec": {
   "display_name": "Python 3.7.15 64-bit",
   "language": "python",
   "name": "python3"
  },
  "language_info": {
   "codemirror_mode": {
    "name": "ipython",
    "version": 3
   },
   "file_extension": ".py",
   "mimetype": "text/x-python",
   "name": "python",
   "nbconvert_exporter": "python",
   "pygments_lexer": "ipython3",
   "version": "3.7.15"
  },
  "orig_nbformat": 4,
  "vscode": {
   "interpreter": {
    "hash": "e774977668b7c0ae8309835a5187aa7fbf7669e7d0bb59755bc63e573643edcd"
   }
  }
 },
 "nbformat": 4,
 "nbformat_minor": 2
}
