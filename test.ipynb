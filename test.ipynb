{
 "cells": [
  {
   "cell_type": "code",
   "execution_count": 68,
   "metadata": {},
   "outputs": [
    {
     "data": {
      "text/plain": [
       "'Charlie'"
      ]
     },
     "execution_count": 68,
     "metadata": {},
     "output_type": "execute_result"
    }
   ],
   "source": [
    "people = [\"Drew\", \"Brandyne\", \"Burke\", \"Charlie\"]\n",
    "doggos = [\"Aengus\", \"Bear\", \"Cali\"]\n",
    "\n",
    "\n",
    "def fourth_place(list1: list) -> str :\n",
    "    try:\n",
    "        return list1[3]\n",
    "    except IndexError:\n",
    "        print(\"There is less than 4 items in this list\")\n",
    "\n",
    "\n",
    "fourth_place(people)\n"
   ]
  },
  {
   "cell_type": "code",
   "execution_count": 21,
   "metadata": {},
   "outputs": [
    {
     "name": "stdout",
     "output_type": "stream",
     "text": [
      "4\n"
     ]
    }
   ],
   "source": [
    "def subtracter_lambda(x, y): return x - y\n",
    "\n",
    "\n",
    "print(subtracter_lambda(10, 6))\n"
   ]
  },
  {
   "cell_type": "code",
   "execution_count": 60,
   "metadata": {},
   "outputs": [],
   "source": [
    "class Shoe:\n",
    "    def __init__(self, US_size: int, color: str, smelly=False):\n",
    "        self.US_size = US_size\n",
    "        self.color = color\n",
    "        self.smelly = smelly\n",
    "\n",
    "    def euro_size(self):\n",
    "        print(str(self.US_size + 33) + \" Euro size\")\n"
   ]
  },
  {
   "cell_type": "code",
   "execution_count": 61,
   "metadata": {},
   "outputs": [
    {
     "name": "stdout",
     "output_type": "stream",
     "text": [
      "44 Euro size\n",
      "43 Euro size\n"
     ]
    }
   ],
   "source": [
    "vans = Shoe(11, \"black\", False)\n",
    "nike = Shoe(10, \"green\", False)\n",
    "\n",
    "vans.euro_size()\n",
    "nike.euro_size()\n"
   ]
  },
  {
   "cell_type": "code",
   "execution_count": 66,
   "metadata": {},
   "outputs": [
    {
     "name": "stdout",
     "output_type": "stream",
     "text": [
      "Your galaxy is the Milky Way Galaxy! There are many things contained within the Milky Way Galaxy including: ('sandworms', 'spice', 'asteroids', 'poison snoopers', 'ornihopters'). Some people dont believe that pluto is a planet and some do. If False you don't, if True, you do! What you think: True. There are more than 4 planets in the Milky Way Galaxy but the colors of the 4 planets selected are: \n",
      "Arrakis - red and tan\n",
      "Caladan - azure and crimson\n",
      "Poritrin - tan\n",
      "Richese - green an and blue\n"
     ]
    }
   ],
   "source": [
    "def galaxy(galaxy_name: str, *objects_found: str, pluto_is_planet = True, **planets: str) -> None:\n",
    "  print(f\"Your galaxy is the {galaxy_name}! There are many things contained within the {galaxy_name} including: {objects_found}. Some people dont believe that pluto is a planet and some do. If False you don't, if True, you do! What you think: {pluto_is_planet}. There are more than {len(planets.items())} planets in the {galaxy_name} but the colors of the {len(planets.items())} planets selected are: \")\n",
    "  for key, value in planets.items():\n",
    "    print(f\"{key} - {value}\")\n",
    "\n",
    "galaxy(\"Milky Way Galaxy\", \"sandworms\", \"spice\", \"asteroids\", \"poison snoopers\", \"ornihopters\", Arrakis = \"red and tan\", Caladan = \"azure and crimson\", Poritrin = \"tan\", Richese = \"green an and blue\")\n"
   ]
  }
 ],
 "metadata": {
  "kernelspec": {
   "display_name": "Python 3.7.15 64-bit",
   "language": "python",
   "name": "python3"
  },
  "language_info": {
   "codemirror_mode": {
    "name": "ipython",
    "version": 3
   },
   "file_extension": ".py",
   "mimetype": "text/x-python",
   "name": "python",
   "nbconvert_exporter": "python",
   "pygments_lexer": "ipython3",
   "version": "3.7.15"
  },
  "orig_nbformat": 4,
  "vscode": {
   "interpreter": {
    "hash": "e774977668b7c0ae8309835a5187aa7fbf7669e7d0bb59755bc63e573643edcd"
   }
  }
 },
 "nbformat": 4,
 "nbformat_minor": 2
}
