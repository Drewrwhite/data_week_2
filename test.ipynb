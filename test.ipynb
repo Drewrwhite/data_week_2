{
 "cells": [
  {
   "cell_type": "code",
   "execution_count": 20,
   "metadata": {},
   "outputs": [
    {
     "name": "stdout",
     "output_type": "stream",
     "text": [
      "There is less than 4 items in this list\n"
     ]
    }
   ],
   "source": [
    "people = [\"Drew\", \"Brandyne\", \"Burke\", \"Charlie\"]\n",
    "doggos = [\"Aengus\", \"Bear\", \"Cali\"]\n",
    "\n",
    "def fourth_place(list1: list):\n",
    "  try:\n",
    "    return list1[3]\n",
    "  except IndexError:\n",
    "    print(\"There is less than 4 items in this list\")\n",
    "fourth_place(doggos)"
   ]
  },
  {
   "cell_type": "code",
   "execution_count": 21,
   "metadata": {},
   "outputs": [
    {
     "name": "stdout",
     "output_type": "stream",
     "text": [
      "4\n"
     ]
    }
   ],
   "source": [
    "subtracter_lambda = lambda x, y: x - y\n",
    "print(subtracter_lambda(10,6))"
   ]
  },
  {
   "cell_type": "code",
   "execution_count": 60,
   "metadata": {},
   "outputs": [],
   "source": [
    "class Shoe:\n",
    "  def __init__(self, US_size: int, color: str, smelly = False):\n",
    "    self.US_size = US_size\n",
    "    self.color = color\n",
    "    self.smelly = smelly\n",
    "  def euro_size(self):\n",
    "    print (str(self.US_size + 33) + \" Euro size\")\n",
    "  \n"
   ]
  },
  {
   "cell_type": "code",
   "execution_count": 61,
   "metadata": {},
   "outputs": [
    {
     "name": "stdout",
     "output_type": "stream",
     "text": [
      "44 Euro size\n",
      "43 Euro size\n"
     ]
    }
   ],
   "source": [
    "vans = Shoe(11, \"black\", False)\n",
    "nike = Shoe(10, \"green\", False)\n",
    "\n",
    "vans.euro_size()\n",
    "nike.euro_size()\n"
   ]
  }
 ],
 "metadata": {
  "kernelspec": {
   "display_name": "Python 3.7.15 64-bit",
   "language": "python",
   "name": "python3"
  },
  "language_info": {
   "codemirror_mode": {
    "name": "ipython",
    "version": 3
   },
   "file_extension": ".py",
   "mimetype": "text/x-python",
   "name": "python",
   "nbconvert_exporter": "python",
   "pygments_lexer": "ipython3",
   "version": "3.7.15"
  },
  "orig_nbformat": 4,
  "vscode": {
   "interpreter": {
    "hash": "e774977668b7c0ae8309835a5187aa7fbf7669e7d0bb59755bc63e573643edcd"
   }
  }
 },
 "nbformat": 4,
 "nbformat_minor": 2
}
